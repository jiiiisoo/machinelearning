{
  "nbformat": 4,
  "nbformat_minor": 0,
  "metadata": {
    "colab": {
      "name": "Untitled0.ipynb",
      "provenance": [],
      "collapsed_sections": [],
      "authorship_tag": "ABX9TyNAZN/g4lDrZJCihyZMUuWL",
      "include_colab_link": true
    },
    "kernelspec": {
      "name": "python3",
      "display_name": "Python 3"
    },
    "language_info": {
      "name": "python"
    }
  },
  "cells": [
    {
      "cell_type": "markdown",
      "metadata": {
        "id": "view-in-github",
        "colab_type": "text"
      },
      "source": [
        "<a href=\"https://colab.research.google.com/github/jiiiisoo/machinelearning/blob/main/1.%EC%A7%80%EB%8F%84%ED%95%99%EC%8A%B5_%EB%B6%84%EB%A5%98.ipynb\" target=\"_parent\"><img src=\"https://colab.research.google.com/assets/colab-badge.svg\" alt=\"Open In Colab\"/></a>"
      ]
    },
    {
      "cell_type": "markdown",
      "source": [
        "# **지도학습: 분류**\n",
        "\n",
        "회귀 문제는 목표 데이터가 연속된 수였지만 분류문제에서 목표 데이터는 클래스이다. \n",
        "\n",
        "또 지금까지의 모델은 목표 데이터의 예측 값을 출력하는 함수였지만 지금부터는 확률을 출력하는 함수를 고려하여 예측의 불확실성을 정량적으로 다룬다.\n",
        "\n",
        "**1차원 입력 2클래스 분류**\n",
        "\n",
        "먼저 가장 간단한, 입력 정보가 1차원이고 분류할 클래스가 2가지인 경우를 생각한다.\n",
        "\n",
        "1차원의 입력변수를 x_n으로, 목표 변수(target variable)을 t_n으로 하고 t_n은 0또는 1만을 갖는 변수로 클래스 0이면 0, 클래스 1이면 1을 갖도록 한다. 이 t_n을 클래스, 카테고리, 또는 라벨이라고 한다.\n",
        "\n",
        "예를 들어 곤충 N마리의 데이터를 생각해보아 각각의 무게를 x_n으로 성별을 t_n으로 나타내어 t_n=0이면 암컷, t_n=1이면 수컷을 나타낸다고 하자. 이 데이터를 기초로 무게를 통해 성별을 예측하는 모델을 만드는 것이 목적이다."
      ],
      "metadata": {
        "id": "24KFZojQPdz7"
      }
    },
    {
      "cell_type": "code",
      "source": [
        "##데이터 생성\n",
        "import numpy as np\n",
        "import matplotlib.pyplot as plt\n",
        "%matplotlib inline\n",
        "\n",
        "np.random.seed(seed=0) #난수 고정\n",
        "X_min=0\n",
        "X_max=2.5\n",
        "X_n=30\n",
        "X_col=['cornflowerblue', 'gray']\n",
        "X=np.zeros(X_n)\n",
        "T=np.zeros(X_n, dtype=np.uint8) #??\n",
        "Dist_s=[0.4,0.8] #몸무게 시작 지점\n",
        "Dist_w=[0.8,1.6] #몸무게 폭\n",
        "Pi=0.5 #클래스 0의 비율\n",
        "for i in range (X_n):\n",
        "  wk=np.random.rand()\n",
        "  T[i]=0*(wk<Pi)+1*(wk>=Pi) #True=1, False=0 / T:성별\n",
        "  X[i]=np.random.rand()*Dist_w[T[i]]+Dist_s[T[i]] #나이 / 암컷이라면 Dist_s[0]=0.4에서 폭 0.8의 균일한 분포에서 질량을 샘플링 하고, 수컷의 경우 0.8에서 폭 1.6의 분포에서 샘플링\n",
        "\n",
        "##data 표시\n",
        "print('X={}'.format(np.round(X,2)))\n",
        "print('Y={}'.format(T))\n",
        "\n",
        "##data 분포 표시\n",
        "#만약 K==0이면, t==0일 때의 x와 t만 추출하여 플롯하는 명령 (K=1,...,max(t)까지도 마찬가지)\n",
        "def show_data(x,t):\n",
        "  K=np.max(t)+1\n",
        "  for k in range(K):\n",
        "    plt.plot(x[t==k],t[t==k],X_col[k], alpha=0.5, linestyle='none', marker='o')\n",
        "    plt.grid(True)\n",
        "    plt.ylim(-.5,1.5)\n",
        "    plt.xlim(X_min,X_max)\n",
        "    plt.yticks([0,1])\n",
        "\n",
        "##main\n",
        "fig=plt.figure(figsize=(3,3))\n",
        "show_data(X,T)\n",
        "plt.show()"
      ],
      "metadata": {
        "colab": {
          "base_uri": "https://localhost:8080/",
          "height": 284
        },
        "id": "8VLWMZxrWzF7",
        "outputId": "67154591-7d76-4852-8f9d-44815186b02e"
      },
      "execution_count": 6,
      "outputs": [
        {
          "output_type": "stream",
          "name": "stdout",
          "text": [
            "X=[1.94 1.67 0.92 1.11 1.41 1.65 2.28 0.47 1.07 2.19 2.08 1.02 0.91 1.16\n",
            " 1.46 1.02 0.85 0.89 1.79 1.89 0.75 0.9  1.87 0.5  0.69 1.5  0.96 0.53\n",
            " 1.21 0.6 ]\n",
            "Y=[1 1 0 0 1 1 1 0 0 1 1 0 0 0 1 0 0 0 1 1 0 1 1 0 0 1 1 0 1 0]\n"
          ]
        },
        {
          "output_type": "display_data",
          "data": {
            "image/png": "[encoded data removed]",
            "text/plain": [
              "<Figure size 216x216 with 1 Axes>"
            ]
          },
          "metadata": {
            "needs_background": "light"
          }
        }
      ]
    },
    {
      "cell_type": "markdown",
      "source": [
        "문제를 해결하는 방법은 수컷과 암컷을 분리하는 경계선을 결정하는 것이고 이를 decision boundary, 결정 경계라고 한다. 결정 경계를 정하여 경계보다 작으면 암컷, 크면 수컷으로 예측할 수 있다.\n",
        "\n",
        "결정 경계를 결정하는 방법은, 먼저 선형 회귀 모델 사용이다.\n",
        "\n",
        "클래스를 0,1의 값으로 해석하여 분포에 직선을 맞추고, t=0.5를 지나는 x값을 결정 경계로 정한다."
      ],
      "metadata": {
        "id": "q35a13LKHiyI"
      }
    },
    {
      "cell_type": "code",
      "source": [
        "def fit_line(x,t):\n",
        "  mtx=np.mean(t*x)\n",
        "  mt=np.mean(t)\n",
        "  mxx=np.mean(x**2)\n",
        "  mx=np.mean(x)\n",
        "  w0=(mtx-mt*mx)/(mxx-mx**2)\n",
        "  w1=mt-mx*((mtx-mt*mx)/(mxx-mx**2))\n",
        "  return np.array([w0,w1])\n",
        "\n",
        "def line(x,w):\n",
        "  y=w[0]*x+w[1]\n",
        "  return y\n",
        "\n",
        "def show_line(w):\n",
        "  xb=np.linspace(X_min,X_max,100)\n",
        "  y=line(xb,w)\n",
        "  plt.plot(xb,y,color='black',linewidth=4)\n",
        "\n",
        "fig=plt.figure(figsize=(4,4))\n",
        "W=fit_line(X,T)\n",
        "boundary=(0.5-W[1])/W[0]\n",
        "print('w0={:.2f}, w1={:.2f}'.format(W[0],W[1]))\n",
        "print('boundary={:.2f} g'.format(boundary))\n",
        "show_data(X,T)\n",
        "show_line(W)\n",
        "plt.show()"
      ],
      "metadata": {
        "colab": {
          "base_uri": "https://localhost:8080/",
          "height": 302
        },
        "id": "OpGhYsW8KR03",
        "outputId": "05577cc7-e31c-409c-d46b-32d8bff13ad1"
      },
      "execution_count": 12,
      "outputs": [
        {
          "output_type": "stream",
          "name": "stdout",
          "text": [
            "w0=0.75, w1=-0.43\n",
            "boundary=1.24 g\n"
          ]
        },
        {
          "output_type": "display_data",
          "data": {
            "image/png": "[encoded data removed]",
            "text/plain": [
              "<Figure size 288x288 with 1 Axes>"
            ]
          },
          "metadata": {
            "needs_background": "light"
          }
        }
      ]
    },
    {
      "cell_type": "markdown",
      "source": [
        "하지만 위의 선형 회귀 모델을 사용했을 때의 문제점은 \n",
        "\n",
        "과연 t=0.5일 때의 x값을 결정 경계로 하는 것이 옳은 것인지\n",
        "\n",
        "확실히 수컷이라고 할 수 있는, 2.0~2.5 정도의 질량이 큰 데이터에서 오차가 직선과의 오차가 커지므로 이 오차를 해소하려 직선이 수컷쪽으로 기울어 결정 경계가 수컷쪽에 끌려간다\n",
        "\n",
        "등이 생긴다."
      ],
      "metadata": {
        "id": "S_Iqcc6JOxuE"
      }
    }
  ]
}
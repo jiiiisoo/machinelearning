{
  "nbformat": 4,
  "nbformat_minor": 0,
  "metadata": {
    "colab": {
      "name": "지도학습 회귀-모델 선택.ipynb",
      "provenance": [],
      "collapsed_sections": [],
      "authorship_tag": "ABX9TyPxFER4Yr80f1VbPzTnJPh6",
      "include_colab_link": true
    },
    "kernelspec": {
      "name": "python3",
      "display_name": "Python 3"
    },
    "language_info": {
      "name": "python"
    }
  },
  "cells": [
    {
      "cell_type": "markdown",
      "metadata": {
        "id": "view-in-github",
        "colab_type": "text"
      },
      "source": [
        "<a href=\"https://colab.research.google.com/github/jiiiisoo/machinelearning/blob/main/supervised%20learning_regression_choosing%20model.ipynb\" target=\"_parent\"><img src=\"https://colab.research.google.com/assets/colab-badge.svg\" alt=\"Open In Colab\"/></a>"
      ]
    },
    {
      "cell_type": "markdown",
      "source": [
        "# **모델의 선택**\n",
        "모델 간 비교에도 선형 기저 함수 모델의 M을 결정할 때와 같이 미지의 데이터에 대한 예측 정확도로 평가한다. 즉, holdout 검증과 k-fold 교차검증을 통해 모델의 좋고 나쁨을 평가할 수 있다.\n",
        "\n",
        "모델 A에 LOOCV를 사용하여 앞서 구했던 선형 기저 함수 모델의 LOOCV 결과와 비교하면"
      ],
      "metadata": {
        "id": "qQsvG8OpM3RY"
      }
    },
    {
      "cell_type": "code",
      "source": [
        "##데이터\n",
        "import numpy as np\n",
        "import matplotlib.pyplot as plt\n",
        "%matplotlib inline\n",
        "\n",
        "# 나이에 따른 키의 인공 데이터 생성\n",
        "np.random.seed(seed=1)\n",
        "X_min=4 #X의 하한\n",
        "X_max=30 #X의 상한\n",
        "X_n=16 #데이터 개수\n",
        "X=5+25*np.random.rand(X_n) #16명 나이 설정\n",
        "Prm_c=[170, 108, 0.2] #생성 매개 변수\n",
        "T=Prm_c[0]-Prm_c[1]*np.exp(-Prm_c[2]*X)+4*np.random.randn(X_n) #T:출력값\n",
        "np.savez('ch5_data.npz', X=X, X_min=X_min, X_max=X_max, X_n=X_n, T=T)\n",
        "\n",
        "##모델A\n",
        "def model_A(x,w):\n",
        "  y=w[0]-w[1]*np.exp(-w[2]*x)\n",
        "  return y\n",
        "\n",
        "def show_model_A(w):\n",
        "  xb=np.linspace(X_min,X_max,100)\n",
        "  y=model_A(xb,w)\n",
        "  plt.plot(xb,y,c=[.5,.5,.5], lw=4)\n",
        "\n",
        "def mse_model_A(w,x,t):\n",
        "  y=model_A(x,w)\n",
        "  mse=np.mean((y-t)**2)\n",
        "  return mse\n",
        "\n",
        "##최적화\n",
        "from scipy.optimize import minimize\n",
        "def fit_model_A(w_init,x,t):\n",
        "  res1=minimize(mse_model_A,w_init, args=(x,t), method='powell') #첫번째 인수: 최소화할 목표 함수, 두번째: w 초기값, 세번째: 함수 최적화하는 매개 변수 w 이외의 변수, 네번째: 사용할 알고리즘\n",
        "                                                                 # powell 알고리즘: 최소화 함수 사용할 때 늦게 수렴되거나 수렴이 보장되지 않는 경우 실험적으로 사용하는 알고리즘\n",
        "  return res1.x #??"
      ],
      "metadata": {
        "id": "sYnt5-k_OCY8"
      },
      "execution_count": null,
      "outputs": []
    },
    {
      "cell_type": "code",
      "source": [
        "##model A와 비교 위한 선형 기저 함수 모델의 필요한 함수들 가져옴\n",
        "\n",
        "#가우스 함수\n",
        "def gauss(x,mu,s):\n",
        "  return np.exp(-(x-mu)**2/(2*s**2))\n",
        "\n",
        "##선형 기저 함수 모델\n",
        "def gauss_func(w,x):\n",
        "  m=len(w)-1 # w의 개수는 가우스함수 개수보다 하나 많기 때문\n",
        "  mu=np.linspace(5,30,m)\n",
        "  s=mu[1]-mu[0]\n",
        "  y=np.zeros_like(x) #x와 같은 크기로 요소가 0의 행렬 y를 작성\n",
        "  for j in range(m):\n",
        "    y=y+w[j]*gauss(x,mu[j],s)\n",
        "  y=y+w[m]\n",
        "  return y\n",
        "\n",
        "##선형 기저 함수 모델의 mse (평균 제곱 오차)\n",
        "#피팅의 수준 산출\n",
        "def mse_gauss_func(x,t,w):\n",
        "  y=gauss_func(w,x)\n",
        "  mse=np.mean((y-t)**2)\n",
        "  return mse\n",
        "\n",
        "##선형 기저 함수 모델의 해석해 (정확한 값)\n",
        "def fit_gauss_func(x,t,m):\n",
        "  mu=np.linspace(5,30,m)\n",
        "  s=mu[1]-mu[0]\n",
        "  n=x.shape[0]\n",
        "  psi=np.ones((n,m+1)) #항상 1 출력하는 더미함수 (psi_(m+1)=1 만들기 위함)\n",
        "  for j in range (m):\n",
        "    psi[:,j]=gauss(x,mu[j],s)\n",
        "  psi_T=np.transpose(psi)\n",
        "  \n",
        "  a=np.linalg.inv(psi_T.dot(psi))\n",
        "  b=a.dot(psi_T)\n",
        "  w=b.dot(t)\n",
        "  return w\n",
        "\n",
        "##K-fold-cross-validation\n",
        "\n",
        "def Kfold_mse_gauss(x,t,m,k):\n",
        "  n=x.shape[0] #n: x의 데이터 개수\n",
        "  mse_train=np.zeros(k)\n",
        "  mse_test=np.zeros(k)\n",
        "  for i in range(0,k):\n",
        "    x_train=x[np.fmod(range(n),k)!=i] #np.fmod(n,k): n을 k로 나눈 나머지 출력 / n을 range(n)으로 하면 0~n-1까지 각 수를 k로 나눈 나머지 출력됨\n",
        "    t_train=t[np.fmod(range(n),k)!=i]\n",
        "    x_test=x[np.fmod(range(n),k)==i]\n",
        "    t_test=t[np.fmod(range(n),k)==i]\n",
        "    wm=fit_gauss_func(x_train,t_train,m)\n",
        "    mse_train[i]=mse_gauss_func(x_train,t_train,wm)\n",
        "    mse_test[i]=mse_gauss_func(x_test,t_test,wm)\n",
        "  return mse_train,mse_test\n",
        "\n",
        "##main\n",
        "M=range(2,8)\n",
        "K=16 #K의 최대 (K=N이 최대이므로)\n",
        "Cv_Gauss_train=np.zeros((K,len(M)))\n",
        "Cv_Gauss_test=np.zeros((K,len(M)))\n",
        "for i in range (0,len(M)):\n",
        "  Cv_Gauss_train[:,i],Cv_Gauss_test[:,i]=Kfold_mse_gauss(X,T,M[i],K)\n",
        "mean_Gauss_train=np.sqrt(np.mean(Cv_Gauss_train,axis=0)) #axis=0 무슨 의미??\n",
        "mean_Gauss_test=np.sqrt(np.mean(Cv_Gauss_test,axis=0))"
      ],
      "metadata": {
        "id": "Ph1dw5OMQyWA"
      },
      "execution_count": null,
      "outputs": []
    },
    {
      "cell_type": "code",
      "source": [
        "## kfold_modelA\n",
        "def Kfold_model_A(x,t,k):\n",
        "  n=len(x)\n",
        "  mse_train=np.zeros(k)\n",
        "  mse_test=np.zeros(k)\n",
        "  for i in range (0,k):\n",
        "    x_train=x[np.fmod(range(n),k)!=i]\n",
        "    t_train=t[np.fmod(range(n),k)!=i]\n",
        "    x_test=x[np.fmod(range(n),k)==i]\n",
        "    t_test=t[np.fmod(range(n),k)==i]\n",
        "    wm=fit_model_A(np.array([169,113,0.2]),x_train,t_train) #w_init은 사용자 지정\n",
        "    mse_train[i]=mse_model_A(wm,x_train,t_train)\n",
        "    mse_test[i]=mse_model_A(wm,x_test,t_test)\n",
        "  return mse_train, mse_test\n",
        "\n",
        "##main\n",
        "K=16\n",
        "Cv_A_train,Cv_A_test=Kfold_model_A(X,T,K)\n",
        "mean_A_test=np.sqrt(np.mean(Cv_A_test))\n",
        "print('Gauss (M=3) SD={:.2f} cm'.format(mean_Gauss_test[1]))\n",
        "print('Model A SD={:.2f} cm'.format(mean_A_test))\n",
        "SD=np.append(mean_Gauss_test[0:5],mean_A_test)\n",
        "M=range(6)\n",
        "label=['M=2','M=3','M=4','M=5','M=6','Model A']\n",
        "plt.figure(figsize=(5,3))\n",
        "plt.bar(M,SD,tick_label=label, align='center',facecolor='cornflowerblue')\n",
        "plt.show()\n",
        "\n"
      ],
      "metadata": {
        "id": "Ai-GKc3yOPDK",
        "colab": {
          "base_uri": "https://localhost:8080/",
          "height": 247
        },
        "outputId": "c92756bf-24d3-4968-8cf3-c9574085fc2e"
      },
      "execution_count": null,
      "outputs": [
        {
          "output_type": "stream",
          "name": "stdout",
          "text": [
            "Gauss (M=3) SD=6.51 cm\n",
            "Model A SD=4.72 cm\n"
          ]
        },
        {
          "output_type": "display_data",
          "data": {
            "image/png": "[encoded data removed]",
            "text/plain": [
              "<Figure size 360x216 with 1 Axes>"
            ]
          },
          "metadata": {
            "needs_background": "light"
          }
        }
      ]
    },
    {
      "cell_type": "markdown",
      "source": [
        "LOOCV로 선형 기저 함수에서 M:2~6일 경우와 model A의 오차 SD를 비교해보면 model A가 M=3일 때보다 작은 것으로 보아 model A가 데이터에 더 적합함을 볼 수 있다."
      ],
      "metadata": {
        "id": "QEtJ4PESKlQJ"
      }
    },
    {
      "cell_type": "markdown",
      "source": [
        "# **정리**\n",
        "\n",
        "어느 데이터든 알맞은 함수와 모델을 찾으려면\n",
        "\n",
        "1. 입력 변수와 목표 변수의 데이터를 둔다.\n",
        "\n",
        "2. 무엇을 가지고 예측의 정확도를 높일지 목적 함수를 결정한다. (지금까지는 평균 제곱 오차로 결정했음)\n",
        "\n",
        "3. 모델의 후보를 결정한다. (선형 회귀 모델, 곡선 모델, 데이터의 특성 반영한 모델 등등)\n",
        "\n",
        "4. 검증을 통해 최적의 매개 변수를 결정한다. (holdout 검증을 이용한다면 test data, training data를 나누어 training data로 목적 함수가 최대 또는 최소가 되도록 변수(w)를 결정한다.)\n",
        "\n",
        "5. test data의 입력변수 를 각 모델에 대입하여 test data를 예측하여 오차가 적은 모델을 선택한다.\n",
        "\n",
        "6. 모델이 결정되면 보유한 데이터를 모두 사용하여 최적의 모델의 매개 변수를 최적화한다.\n"
      ],
      "metadata": {
        "id": "Q8eLLpYLK4pc"
      }
    },
    {
      "cell_type": "markdown",
      "source": [
        "출처: 파이썬으로 배우는 머신러닝의 교과서-이시카와아키히코"
      ],
      "metadata": {
        "id": "pvzK2bnxPzpf"
      }
    }
  ]
}
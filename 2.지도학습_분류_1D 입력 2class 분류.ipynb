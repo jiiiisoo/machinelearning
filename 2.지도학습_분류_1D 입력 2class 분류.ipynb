{
  "nbformat": 4,
  "nbformat_minor": 0,
  "metadata": {
    "colab": {
      "name": "Untitled0.ipynb",
      "provenance": [],
      "authorship_tag": "ABX9TyMsXdbAPgxXQGrN1fSCmwyv",
      "include_colab_link": true
    },
    "kernelspec": {
      "name": "python3",
      "display_name": "Python 3"
    },
    "language_info": {
      "name": "python"
    }
  },
  "cells": [
    {
      "cell_type": "markdown",
      "metadata": {
        "id": "view-in-github",
        "colab_type": "text"
      },
      "source": [
        "<a href=\"https://colab.research.google.com/github/jiiiisoo/machinelearning/blob/main/2.%EC%A7%80%EB%8F%84%ED%95%99%EC%8A%B5_%EB%B6%84%EB%A5%98_1D%20%EC%9E%85%EB%A0%A5%202class%20%EB%B6%84%EB%A5%98.ipynb\" target=\"_parent\"><img src=\"https://colab.research.google.com/assets/colab-badge.svg\" alt=\"Open In Colab\"/></a>"
      ]
    },
    {
      "cell_type": "markdown",
      "source": [
        "# **확률로 나타내는 클래스 분류**\n",
        "\n"
      ],
      "metadata": {
        "id": "02Y16mT8RuA_"
      }
    },
    {
      "cell_type": "code",
      "source": [
        "##데이터 생성\n",
        "import numpy as np\n",
        "import matplotlib.pyplot as plt\n",
        "%matplotlib inline\n",
        "\n",
        "np.random.seed(seed=0) #난수 고정\n",
        "X_min=0\n",
        "X_max=2.5\n",
        "X_n=30\n",
        "X_col=['cornflowerblue', 'gray']\n",
        "X=np.zeros(X_n)\n",
        "T=np.zeros(X_n, dtype=np.uint8) #??\n",
        "Dist_s=[0.4,0.8] #몸무게 시작 지점\n",
        "Dist_w=[0.8,1.6] #몸무게 폭\n",
        "Pi=0.5 #클래스 0의 비율\n",
        "for i in range (X_n):\n",
        "  wk=np.random.rand()\n",
        "  T[i]=0*(wk<Pi)+1*(wk>=Pi) #True=1, False=0 / T:성별\n",
        "  X[i]=np.random.rand()*Dist_w[T[i]]+Dist_s[T[i]] #나이\n",
        "\n",
        "def show_data(x,t):\n",
        "  K=np.max(t)+1\n",
        "  for k in range(K):\n",
        "    plt.plot(x[t==k],t[t==k],X_col[k], alpha=0.5, linestyle='none', marker='o')\n",
        "    plt.grid(True)\n",
        "    plt.ylim(-.5,1.5)\n",
        "    plt.xlim(X_min,X_max)\n",
        "    plt.yticks([0,1])\n",
        "\n",
        "##main\n",
        "fig=plt.figure(figsize=(3,3))\n",
        "show_data(X,T)\n",
        "plt.show()"
      ],
      "metadata": {
        "colab": {
          "base_uri": "https://localhost:8080/",
          "height": 211
        },
        "id": "V77Lbz-XSKwr",
        "outputId": "226efbf2-55b0-49a5-ef6e-2fe126c2ce9a"
      },
      "execution_count": 2,
      "outputs": [
        {
          "output_type": "display_data",
          "data": {
            "image/png": "[encoded data removed]",
            "text/plain": [
              "<Figure size 216x216 with 1 Axes>"
            ]
          },
          "metadata": {
            "needs_background": "light"
          }
        }
      ]
    },
    {
      "cell_type": "markdown",
      "source": [
        "위의 데이터 그래프를 보면 알 수 있듯, x<0.8이면 확실히 암컷, x>1.2이면 확실히 수컷임을 알 수 있다. 따라서 0.8<=x<=1.2 에서 예측할 수 있으면 된다. 이는 x가 0.8~1.2 사이일 때 수컷일 확률을 구하여 나타낼 수 있다.\n",
        "\n",
        "이 같이 x에 대해 t=1 (수컷)일 확률은 조건부 확률로 P(t=1|x) 로 나타낼 수 있다."
      ],
      "metadata": {
        "id": "by_ZL53mSTRl"
      }
    },
    {
      "cell_type": "markdown",
      "source": [
        "**최대가능도법**\n",
        "\n",
        "예를 들어 x가 0.8<=x<=1.2 로 P(t=1|x)를 추정해보면 P(t=1|x)=w 로 단순한 모델을 고려할 수 있다. (0<=w<=1)\n",
        "\n",
        "이 모델이 T=0,0,0,1 이라는 데이터를 생성했다고 가정하여 가장 타당한 w를 추정하는 문제를 고려해보자.\n",
        "\n",
        "단순히 생각하면 w=1/4이지만 다른 모델 경우에도 대응할 수 있도록 일반적인 최대가능도법으로 구한다. 먼저 모델에서 T=0,0,0,1이 생성될 확률을 생각하고 이 확률을 가능도라고 한다. 예를 들어 w=0.1일 때의 가능도는 P(t=1|x)=0.1이므로 T=0,0,0,1이 될 가능도는 (0.9)^3*(0.1)=0.0729, w=0.2일 때의 가능도는 같은 방법으로 0.1024이다. 따라서 만약 T=0,0,0,1이라는 데이터를 생성한 모델의 매개변수 w가 0.1, 0.2 중 하나라면 w=0.2 인 경우가 가능도가 더 높으므로 적절하다.\n",
        "\n",
        "위와 같은 방법으로 w를 해석적으로 찾아보면 가능도는 P(T=0,0,0,1|x)=(1-w)^3*(w) 로 나타낼 수 있다.\n",
        "\n",
        "즉, 최대가능도법이란 주어진 입력 데이터 x에 대해 라벨 데이터 t가 생성될 확률(가능도) 이 가장 커지는 w를 추정치로 하는 것이다.\n",
        "\n",
        "위 식을 이용하여 w의 최댓값을 구하면, 로그를 취했을 때 계산이 더 편해지므로 양변에 로그를 취하고 이 가능도를 로그가능도라고 하며 평균 제곱 오차 함수 대신 사용되는 확률 세계의 목적함수이다.\n",
        "\n",
        "dlog(P)/dw=d{3log(1-w)+log(w)}/dw=0 , w=1/4\n",
        "\n",
        "하지만 이는 x가 0.8,1.2 사이에서 확률이 일정하다고 가정하고 구한 것인데, 항상 확률이 일정하지 않을 수도 있으므로 이를 적용하여 모델을 구해보자."
      ],
      "metadata": {
        "id": "zhUerh_PW1mT"
      }
    },
    {
      "cell_type": "markdown",
      "source": [
        "**로지스틱 회귀 모델**\n",
        "\n",
        "데이터가 가우스 분포를 따른다고 가정하면 조건부 확률 P(t=1|x)는 로지스틱 회귀 모델로 나타내는데 이 모델은 y=w0*x+w1 직선 함수를 시그모이드 함수인 𝜎(x)=1/{1+exp(-x)} 안에 넣은 것이다.\n",
        "\n",
        "y=𝜎(w0x+w1)=1/{1+exp(-(w0x+w1))}\n",
        "\n",
        "이렇게 하면 x가 커지면 1에 수렴하고, x가 작아지면 0에 수렴하여 시그모이드를 통과한 직선의 함수는 0과 1사이에 들어가고 직선이 0의 값을 가지면 확률은 0.5의 값을 가진다."
      ],
      "metadata": {
        "id": "v_WvYTnUgjdX"
      }
    },
    {
      "cell_type": "code",
      "source": [
        "##로지스틱 함수\n",
        "def logistic(x,w):\n",
        "  y=1/(1+np.exp(-(w[0]*x+w[1])))\n",
        "  return y\n",
        "\n",
        "##main\n",
        "def show_logistic(w):\n",
        "  xb=np.linspace(X_min,X_max,100)\n",
        "  y=logistic(xb,w)\n",
        "  plt.plot(xb,y,color='gray', linewidth=4)\n",
        "  #결정경계\n",
        "  i=np.min(np.where(y>0.5)) #y>0.5 인 xb들 중 최소\n",
        "  B=(xb[i-1]+xb[i])/2 #y==0.5 인 xb의 근사값\n",
        "  plt.plot([B,B],[-.5,1.5], color='k', linestyle='--')\n",
        "  plt.grid(True)\n",
        "  return B\n",
        "\n",
        "##test\n",
        "W=[8,-10]\n",
        "show_logistic(W)"
      ],
      "metadata": {
        "colab": {
          "base_uri": "https://localhost:8080/",
          "height": 283
        },
        "id": "DwUmL6HJiXY8",
        "outputId": "903fc6e2-a307-431e-8044-98ce28a126c3"
      },
      "execution_count": 3,
      "outputs": [
        {
          "output_type": "execute_result",
          "data": {
            "text/plain": [
              "1.25"
            ]
          },
          "metadata": {},
          "execution_count": 3
        },
        {
          "output_type": "display_data",
          "data": {
            "image/png": "[encoded data removed]",
            "text/plain": [
              "<Figure size 432x288 with 1 Axes>"
            ]
          },
          "metadata": {
            "needs_background": "light"
          }
        }
      ]
    },
    {
      "cell_type": "markdown",
      "source": [
        "**교차 엔트로피 오차**\n",
        "\n",
        "로지스틱 회귀 모델에서는 t=1이 될 확률을 y=𝜎(w0x+w1)=1/{1+exp(-(w0x+w1))} 으로 나타냈다.\n",
        "\n",
        "데이터가 하나뿐이라고 가정하고 무게 x에 대해 t=1이라면 t=1이 될 확률은 위의 y값 자체이다. 이러한 클래스의 생성 확률을 나타내면 P(t|x)=y^t*(1-y)^(1-t)이다.\n",
        "\n",
        "이때, 데이터가 N개라면 주어진 X=x_0,x_1,...,x_N-1 에 대한 클래스 T=t_0,t_1,...,t_N-1의 생성확률은 하나하의 데이터 생성확률을 모든 데이터에 곱하면 된다. \n",
        "\n",
        "![1.jpg](data:image/jpeg;base64,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)\n",
        "\n",
        "위 식 양변에 로그를 취하여 로그가능도를 얻고 w_0,w_1은 로그가능도가 최대가 되도록 구한다. 하지만 지금까지는 평균 제곱 오차의 최소를 구했으므로 맞춰주기위해 -1을 곱하면 이를 교차 엔트로피 오차, cross-entropy error fuction이라고 한다. 그리고 교차 엔트로피 오차에 N을 나눈 평균 교차 엔트로피 오차를 E(w)로 정의한다. 그 이유는 데이터 개수에 오차 값이 영향 받지 않도록 하고, 수치 확인에 편하기 때문이다.\n",
        "\n",
        "![image.png](data:image/png;base64,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)"
      ],
      "metadata": {
        "id": "KyVuZ7HClPbQ"
      }
    },
    {
      "cell_type": "code",
      "source": [
        "##평균 교차 엔트로피 오차\n",
        "def cee_logistic(w,x,t):\n",
        "  y=logistic(x,w)\n",
        "  cee=0\n",
        "  for i in range(len(y)): #y의 수만큼 더함\n",
        "    cee-=t[i]*np.log(y[i])+(1-t[i])*np.log(1-y[i])\n",
        "  cee/=X_n\n",
        "  return cee"
      ],
      "metadata": {
        "id": "7FtiFNTXj_jr"
      },
      "execution_count": 4,
      "outputs": []
    },
    {
      "cell_type": "markdown",
      "source": [
        "**학습 규칙 도출**\n",
        "\n",
        "교차 엔트로피 오차를 최소화하는 매개 변수는 경사 하강법을 이용하여 수치적으로 구한다. \n",
        "\n",
        "E_n(w)를 E(w)의 시그마 안에 들어가는 함수라고 하면, E_n(w)를 w_0에 대해 편미분하면, -x_n(y_n-t_n)이 되고 w_1에 대해 편미분하면, -(y_n-t_n)이 된다."
      ],
      "metadata": {
        "id": "qrzivd0EthHc"
      }
    },
    {
      "cell_type": "code",
      "source": [
        "##E(w)의 미분\n",
        "def dcee_logistic(w,x,t):\n",
        "  y=logistic(x,w)\n",
        "  dcee=np.zeros(2)\n",
        "  for i in range(len(y)): #len(y)==X_n (X 데이터 개수)\n",
        "    dcee[0]+=x[i]*(y[i]-t[i])\n",
        "    dcee[1]+=y[i]-t[i]\n",
        "  dcee/=X_n\n",
        "  return dcee"
      ],
      "metadata": {
        "id": "ENTsPJKm0imo"
      },
      "execution_count": 7,
      "outputs": []
    },
    {
      "cell_type": "markdown",
      "source": [
        "**경사하강법 의한 해**\n",
        "\n",
        "경사 하강법으로 로지스틱 회귀 모델의 w값을 찾아보자."
      ],
      "metadata": {
        "id": "NPWo3y0aHmxI"
      }
    },
    {
      "cell_type": "code",
      "source": [
        "from scipy.optimize import minimize\n",
        "\n",
        "##경사하강법\n",
        "def fit_logistic(w_init,x,t):\n",
        "  res1=minimize(cee_logistic,w_init, args=(x,t), jac=dcee_logistic, method='CG') #jac: 미분할 함수 지정 / CG(Conjugate Gradient Method): 경사하강법의 일종 ???\n",
        "  return res1.x\n",
        "\n",
        "##main\n",
        "plt.figure(figsize=(3,3))\n",
        "W_init=[1,-1]\n",
        "W=fit_logistic(W_init,X,T)\n",
        "print('w0={0:.2f}, w1={1:.2f}'.format(W[0],W[1]))\n",
        "B=show_logistic(W)\n",
        "plt.ylim(-.5,1.5)\n",
        "plt.xlim(X_min,X_max)\n",
        "cee=cee_logistic(W,X,T)\n",
        "print('CEE={0:.2f}'.format(cee))\n",
        "print('Boundary={:.2f} g'.format(B))\n",
        "plt.show()"
      ],
      "metadata": {
        "colab": {
          "base_uri": "https://localhost:8080/",
          "height": 270
        },
        "id": "bZT-981jIAtl",
        "outputId": "c31de070-74be-4762-cce0-711b320d2e9f"
      },
      "execution_count": 8,
      "outputs": [
        {
          "output_type": "stream",
          "name": "stdout",
          "text": [
            "w0=8.18, w1=-9.38\n",
            "CEE=0.25\n",
            "Boundary=1.15 g\n"
          ]
        },
        {
          "output_type": "display_data",
          "data": {
            "image/png": "[encoded data removed]",
            "text/plain": [
              "<Figure size 216x216 with 1 Axes>"
            ]
          },
          "metadata": {
            "needs_background": "light"
          }
        }
      ]
    },
    {
      "cell_type": "markdown",
      "source": [
        "출처: 파이썬으로 배우는 머신러닝의 교과서-이시카와아키히코"
      ],
      "metadata": {
        "id": "XuAEXZbkKeUP"
      }
    }
  ]
}
{
  "nbformat": 4,
  "nbformat_minor": 0,
  "metadata": {
    "colab": {
      "name": "Untitled1.ipynb",
      "provenance": [],
      "collapsed_sections": [],
      "authorship_tag": "ABX9TyOoGdWops4GUU0m12h6bMLB",
      "include_colab_link": true
    },
    "kernelspec": {
      "name": "python3",
      "display_name": "Python 3"
    },
    "language_info": {
      "name": "python"
    }
  },
  "cells": [
    {
      "cell_type": "markdown",
      "metadata": {
        "id": "view-in-github",
        "colab_type": "text"
      },
      "source": [
        "<a href=\"https://colab.research.google.com/github/jiiiisoo/machinelearning/blob/main/4.%EC%A7%80%EB%8F%84%ED%95%99%EC%8A%B5_%EB%B6%84%EB%A5%98_2D%EC%9E%85%EB%A0%A5%203%ED%81%B4%EB%9E%98%EC%8A%A4%20%EB%B6%84%EB%A5%98.ipynb\" target=\"_parent\"><img src=\"https://colab.research.google.com/assets/colab-badge.svg\" alt=\"Open In Colab\"/></a>"
      ]
    },
    {
      "cell_type": "markdown",
      "source": [
        "**2차원 입력 3클래스 분류**\n",
        "\n",
        "3클래스 이상의 클래스 분류에서는 소프트맥스 함수를 모델의 출력에 사용한다.\n",
        "\n",
        "![image.png](data:image/png;base64,iVBORw0KGgoAAAANSUhEUgAAAMoAAABUCAYAAADDCaibAAAPNUlEQVR4nO2dz2sbRxvHv/vy3kqdSLoWU7TyKW4FruyW1A3YB60IvRhc5LY5GBJqVgFD09bGEoUWOynrQwuF2hJEUAxBckXiEpCQHLAhWkzt2sZLG3xopZSSS0FrN8kfMO9B70y0+rlrS5YczwcWvKP1aEa7z87zzDzzPAIhhIDD4dTlP+1uAKdzyOfzCAQCCIVCx6onEokgEAggn883qWUdAOFwCCF7e3tEFEWSzWabUl82myWiKJK9vb2m1NduBEK46nXW0XUdPT09uH//PgYHB5tWr6ZpGBoawvb2NpxOZ9PqbQdcUDhMTUqn0y2pGwAWFhaaXvdJwm2UDieVSqG/vx+CIMBut2N+fh5A8QEUBAGCILCHkZa5XC5omga73Q5BEKCqKkKhEKsjEokYviMej2N8fLxmGyKRCFwuFwRBgM/nw/z8vGk75v3338fi4iJ0XT/iL9AhtFfz49Rjb2+PACDhcJgQUtT7ATA7QpZlAoAUCgVCCCHJZJJ4PB52Tq+XJInZCoqiGOqg1+RyuaptCAaDxGazsevD4TABQJLJpKk+FAoFS9d3KlxQOhhZlonf7zeUSZJEgsEgO/d4PMTj8ZC9vT0iSRITEkJeCEH5Q2qz2YiiKISQFw9+NXK5HAFAYrFYRZ21BKsaANj3nVa46tXB5PN5LC8vMxVLEARkMhns7Oywa9LpNHK5HIaGhnDnzh04HI6Kerq6ugznAwMDWFtbAwA8ffq05vdHo1GIooixsTFW9ujRI4iieOqNc6twQelwFEUBKY787Cg3ugcGBnB4eIgHDx6Yrvf8+fMNr9nZ2YHH4zGUrayswOv1Gso0TYMgCKa/+zTCBaXD2d3drfu5z+eDoiiIxWL48MMPoWlaxTXPnj0znG9tbaGvrw8AcO7cubr10+uAotGfyWRw6dIlwzVutxvkJZ885YLSwUxOTmJ5eZnNUum6jlAohHg8DqA4y3Xt2jW43W6MjY3B7/djaGioQliWlpbYrBOdNRsdHQUAXLhwAQCqChgAJBIJAICqqkxN6+rqQiQSQSqVwvz8PARBYPWWQ7+3t7f3aD9Cp9BWC4nTEEVRiCiKBAARRZHNgPn9flZGSHGGzGazEQDEZrMRQl4Y3n6/n31GDf9SbDabwWCn0DpLjX+Px0NsNhtrBy2rtaKfTCYNM3OnFb7g+BKjqiree+89ZLPZuivux11wFAShpur1siw4/rfdDeC0n9nZWfT09EBVVcsuLKqqQpKkmp/F43Fsb283o5lthdsoZ4AnT57U/dzhcGB9fR3j4+NQVdVS3RsbG3A6nVBV1eAtrKoqxsfHsb6+3rSp5MePH+Px48dNqcsybVb9OC2E2iUATHnx5nI5IsuyYUGzEdQGKf2fcDhMZFm2tChphnv37pF79+41tU6zcBuF03Houo5EIoEPPvjAsIC6srICABgZGTnxNp051Ys6B/p8Plamqipb+X6pNhudQqiQDA4OVvUyaBdnSlA0TUN3dzdisRgymQxbOxgcHEQwGLTsmlHqWlLvsKr3n1VKhaTT1l3O1KyX2+2G2+1mi2D7+/twu90AgMPDQ8zNzVmqj2utzSWRSOCff/7B3bt3cffu3arXvPnmmyfcqiJnSlAoDocDoiji77//ZmW//vorZmdn2bndbm/6jr9yXnb/KKv89ttvSKfT8Pl8fETpFDweD9bW1jA1NYVUKoXPPvvMoBMfHBw0rMPsg15rwY+PSNWhC5+dJCxnykYppa+vj6lgS0tLzJWcGvalxn4tSJlXb62jmaOSz+cztI+eWx2d4vE4XC5X09rVLHp7e+Hz+ZBOp9u3ZlKNdsxJdwLUDyocDlf4KQWDwY7daFS+cSqZTFqKdlIoFIgsy2ynY6eSz+fb3QQDnftLtRi6e6/a4pokSU0L21MPurvQzEGJxWIGR8jyXY1WaCQoR1mAbESrFiNbzZkVlEKhQERRrPqQneSb1uPxGPawl5LNZtnqOkWWZSLLMkkmk8Tv9x/LK7deP5sd56uU0xjz68wKiizLVW8UvYm5XO5ERhUaQKKW0AaDQcMDTV3uUWMfuiRJDUclSi1BKRQKhoASrYC68J+WkeVMCYrf72fqRLX9F4QU1Q2bzXYslcYqVBiqqTjUJqFtw//9tmKxmOUgD+XUEhRZlokkSUeu1yx0dDwNnClBEUWRiKLYcaFzqBpYSwWjhMNhtimLkKLgH1WgqQBWG1VrbeRqNqdpU9eZEpROhj64tVQwQghToejuQqpmWTW2y9Wz0tGjUTiibDbL7Cq64/Koo89pivnFBaWDqKeCnRT14nzREYAKKrWvjtPeWrZWp3FmFxw7kRs3bkAURSwuLratDfXifE1OTkKWZUxMTAAA85N74403TqRt7YQLSodxcHCAb775pt3NqCCVSiGXy+Hzzz9nZdT7emBggJXRqCzUU6D0/DR7UXNB6SCuX78Or9fL3tjVaIYLi6ZpLOh2IBAwBNCuFefr999/h81mM2xDyGQyFVsTpqamAACxWAwAcPXqVdhsNsRisZY6mLacdut+nCJ0RqvRDNBxXVgIKc5qJZNJNttWGnqo1myYoigGo52ug5RP79Ip7FwuRwqFgiFAeDmnyZjnI0oHoGkaZmZmcP/+/Ya7+p48ecLe4pqm4fvvv8fm5iazF0pHmPIDAFN/Ll++DIfDgU8++YRtsQWKm9hsNhv29/crvjuTyUDXdeTzefz0008YGBiAzWaDqqosAN7W1hZEUcTz589x/fp1KIrC2lbO5uYmAODtt9+2+Iu1gXZLKqfoxlJr5oe+dSnHdWEpn85NJpMV07vVFhwLhQKbFpZlmRQKBcMsHW0HTUWBsmnnavAFR45pgsEg8Xg8NT+nDx6lkQtLI8pVqGw2W1UojurCQlU5qprVWrikfmzchYXTELouYeYgxJwLSyNfL/qAUsoFh3IUp0i6rkJtEmp3lbeRO0VyLFHvoS496IjTDBcWOlrEYjGmTtXze7PiZk/7Q5Mf0T0vpSMmd7PntBwqOMd1YYnFYsx9v51eAKcJHgCPwzEBnx7mcEzABYXDMQEXFA7HBFxQOBwTcEHhcEzABYXDMQEXFA7HBFxQOBwTcEHhcEzABYXDMQEXFA7HBFxQOBwTcEHhcEzABYXDMQEXFA7HBFxQOBwTcEHhcEzABYXDMQEXFA7HBFxQThE+n49FZHzZ6bS+ckHhcExwIoISiURY9HT6pgiFQifx1QaqpR+IRCKw2+3snKYpoNHiraBpGux2O+x2O/L5PAAgHo/DbrcjHo8fvwMWoDGIS9/KmqZBEASWrkFVVcuR8Cm6rqO/vx+CICCVSrH6XS4XAoFAczphkpPoa8sFJRQKYWZmBj/++CMIIRgZGcH09DTeffddS/WU5tmod9R7wJPJZEXZ+vo6Dg8P2TlNWzA+Pm6pfUBR6P744w8AwIMHD6CqKh4+fIiDgwOMjY1Zru843Llzp6Lsl19+AQA8f/4cQDEgtyRJkGXZcv3ffvst0uk0JEnC0tISdF3H9PQ0Njc3sbCwcLzGW6SVfdV1HYlEorVBumkI0NJIhI1yBLYalMTspQGwUfIz0FQIx4FGcGx2Zl1JkizFGy5vQ7Wc9h6P51j3IhwOE1EUiSRJTb2nndLXxcVF8tVXX7U27UM0GoUoioa36aNHjyqSz9Bh8qSJRqNQFAXAi3QI0WgUc3Nz7JpIJGIYpUKhEARBgMvlYipHOUNDQ8hkMlXfrFQVs9vtdY3VUlWBHplMBtPT01XTOTRCVVU4HA5IkoSNjQ1W1t/fz+5F+X3QdR3z8/N1R8N33nkHuVwO4+PjhnsKAPl8HoFAoKFR3u6+6rqOQCAAu90OQRAMZsHg4CBeeeWV1qpeOzs78Hg8hrKVlRV4vV5DmdvtBmkQsLIZqhcA1p58Po9EIoGrV6+yz/L5PHZ3dw0PxsTEBNLpNICi0Ozs7KBQKOCLL77AlStXqn5HrTyImqYhEAhge3sb6+vrmJ6eZjp0OYODgyDFkLfskCQJiqJUlNfirbfeYn9/+umn7KVAmZubw+zsLDsvvQ+apuHLL7/EX3/9hX///bfmd1DVppx4PI5oNMpstXq0u6/RaBRAMS1gMpnErVu32Iuzt7cXPp+v9TZKX18f+zsejyOTyeDSpUusjApAo7fO1NRUxY9W7aAPdS0cDgd2d3cRDAbx9ddfw+FwwGaz4dmzZwgEArh16xa7lhqJ9EdbWVnByMgIHA4HJiYmcHh4WJGXUFVVJihbW1uGzzKZDLxeL5xOJ9xuNyRJQiaTqdve43Du3DlsbW0hEonA6/XC7Xbj/PnzePr0KUKhECYnJ1niovL74Ha7sbCwgI8++qhm/bquY25uDpIk4eHDh4bPxsbGcPPmTQwPD7esf6Ucp69TU1Ns9L98+TIA4NVXX2V19/b2tl5QEokEAOMD1NXVhUgkglQqhampKXg8Hly8eLHVTQEAOJ1OrK6uAnjxowwMDODKlSsYGRkxqA/USKS5B7e2tnDhwgX2efloqWka5ubmcPPmTUiShJ9//hmaprGhfHd31/DiKH0LtoLu7m4cHh7i9u3buHHjBoDii2txcRG5XI71H4Dl+6DrOj7++GMsLCxgeHgYq6uryOfzJz5pQWlWX1OpFGRZrsgS1lJBURQFuVwOdrsdGxsbmJiYgMfjYSoLbfz29vaJJcJ8/fXXAQA//PCDobxaktH9/X1IksTOS2fHABjSyLlcLly7do0J1+TkJJaXlzE9Pc1uXLkKUyuxaLN47bXXAADfffedoa12u72i/4D5+xAIBNDT0wNFUeB0OjE6OoqDgwN4vV7MzMw0rwMWaEZfaaq/qrN2lqYAWkC1jE+dgqIohpkXSZIMiUFRNqtipj6aO4TWZ3Vm5yhZtsxQ6z4c9/6U/4ZmOem+7u3t1c010/aV+Y2NDTidTqiqasrwO0nW1tbQ3d3NFguHh4dx+/Zt6LqOeDwOURQtjYQXL17E6uoqNE2DpmnY2trC6Oio6f9Pp9NsnafZ1LoPGxsb+PPPPw0ptq2wtraG3d1dy/93kn3VdZ1pAw6HA/F4vML2bPuIQtOzdWJCm2AwaMhDSNNBAzhyajWaILRefsN2UO0+oCzzl5U3PF0vKz2OkhOyFZT3tTRBa6228kRCHI4J2q56cTinAS4oHI4JuKBwOCbggsLhmIALCodjAi4oHI4JuKBwOCbggsLhmOB/aihHXRS5pVgAAAAASUVORK5CYII=)"
      ],
      "metadata": {
        "id": "m_xEv6n_Ovwq"
      }
    },
    {
      "cell_type": "code",
      "source": [
        "##data\n",
        "import numpy as np\n",
        "import matplotlib.pyplot as plt\n",
        "%matplotlib inline\n",
        "\n",
        "np.random.seed(seed=1)\n",
        "N=100 #데이터 수\n",
        "K=3 #분포 수\n",
        "T3=np.zeros((N,3), dtype=np.uint8)\n",
        "T2=np.zeros((N,2), dtype=np.uint8)\n",
        "X=np.zeros((N,2))\n",
        "X_range0=[-3,3] #X0범위 표시\n",
        "X_range1=[-3,3] #X1범위 표시\n",
        "Mu=np.array([[-.5,-.5],[.5,1.0],[1,-.5]]) #X입력의 초기값 (중심)\n",
        "Sig=np.array([[.7,.7],[.8,.3],[.3,.8]]) #X입력의 분산\n",
        "Pi=np.array([0.4,0.8,1]) #각 분포에 대한 비율\n",
        "for n in range(N):\n",
        "  wk=np.random.rand()\n",
        "  for k in range(K):\n",
        "    if wk<Pi[k]:\n",
        "      T3[n,k]=1 #어느 클래스에 있는지 표시 / if k[0]==1: 클래스0소속, k[1]==1: 클래스1소속, k[2]==1: 클래스2소속\n",
        "      break\n",
        "  for k in range(2):\n",
        "    X[n,k]=(np.random.randn()*Sig[T3[n,:]==1,k]+Mu[T3[n,:]==1,k])\n",
        "\n",
        "##data 표시\n",
        "def show_data2(x,t):\n",
        "  wk,K=t.shape #2클래스분류: t.shape==2, 3클래스분류: t.shape==3\n",
        "  c=[[.5,.5,.5],[1,1,1],[0,0,0]] #클래스 별 색\n",
        "  for k in range(K):\n",
        "    plt.plot(x[t[:,k]==1,0],x[t[:,k]==1,1],linestyle='None', markeredgecolor='black', marker='o', color=c[k],alpha=0.8)\n",
        "    plt.grid(True)\n",
        "\n",
        "##3클래스용 로지스틱 회귀 모델\n",
        "def logistic3(x0,x1,w):\n",
        "  K=3\n",
        "  n=len(x1)\n",
        "  y=np.zeros((n,K))\n",
        "  w=w.reshape((3,3)) #w_i0,w_i1,w_i2 로 정렬하기 위함\n",
        "  for k in range(K):\n",
        "    y[:,k]=np.exp(w[k,0]*x0+w[k,1]*x1+w[k,2])\n",
        "  wk=np.sum(y,axis=1) #행 하나로 출력\n",
        "  wk=y.T/wk\n",
        "  y=wk.T\n",
        "  return y\n"
      ],
      "metadata": {
        "id": "wsgVZjRxv7hR"
      },
      "execution_count": 13,
      "outputs": []
    },
    {
      "cell_type": "markdown",
      "source": [
        "**교차 엔트로피 오차**\n",
        "\n",
        "![image.png](data:image/png;base64,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)\n",
        "\n",
        "따라서 E(W)는 음의 로그 평균이므로 위의 식에 로그를 취한 뒤 N으로 나누고 -부호를 붙이면 된다."
      ],
      "metadata": {
        "id": "GAgUyeZ68Dja"
      }
    },
    {
      "cell_type": "code",
      "source": [
        "#cross-entropy error function\n",
        "def cee_logistic3(w,x,t):\n",
        "  X_n=x.shape[0]\n",
        "  y=logistic3(x[:,0],x[:,1],w)\n",
        "  cee=0\n",
        "  N,K=y.shape #y의 행 수, 열 수를 차례로 나타냄\n",
        "  for n in range(N):\n",
        "    for k in range(K):\n",
        "      cee-=t[n,k]*np.log(y[n,k])\n",
        "  cee/=X_n\n",
        "  return cee\n",
        "\n"
      ],
      "metadata": {
        "id": "ALIg6XTy8bGj"
      },
      "execution_count": 2,
      "outputs": []
    },
    {
      "cell_type": "markdown",
      "source": [
        "**경사 하강법에 의한 해**\n",
        "\n",
        "E(W)를 최소화하기 위해 w_nk로 각각 편미분해야 하는데 그 방법은 소프트맥스 함수의 미분 계산이 필요하므로 뒤에 나올 신경망, 딥러닝에서 다루도록 한다. 결과만 확인하면 다음과 같다."
      ],
      "metadata": {
        "id": "LdEyygqMd6W6"
      }
    },
    {
      "cell_type": "code",
      "source": [
        "from scipy.optimize import minimize\n",
        "##cross-entropy error function의 미분\n",
        "def dcee_logistic3(w,x,t):\n",
        "  X_n=x.shape[0]\n",
        "  y=logistic3(x[:,0],x[:,1],w)\n",
        "  dcee=np.zeros((3,3))\n",
        "  N,K=y.shape\n",
        "  for n in range(N):\n",
        "    for k in range(K):\n",
        "      dcee[k,:]-=(t[n,k]-y[n,k])*np.r_[x[n,:],1] #np.r_: ???\n",
        "  dcee/=X_n\n",
        "  return dcee.reshape(-1)\n",
        "\n",
        "##매개변수 찾기\n",
        "def fit_logistic3(w_init,x,t):\n",
        "  res=minimize(cee_logistic3,w_init,args=(x,t), jac=dcee_logistic3, method='CG')\n",
        "  return res.x\n",
        "\n",
        "##모델 등고선 2D 표시\n",
        "def show_contour_logistic3(w):\n",
        "  xn=30\n",
        "  x0=np.linspace(X_range0[0],X_range0[1],xn)\n",
        "  x1=np.linspace(X_range1[0],X_range1[1],xn)\n",
        "  xx0,xx1=np.meshgrid(x0,x1)\n",
        "  y=np.zeros((xn,xn,3))\n",
        "  for i in range(xn):\n",
        "    wk=logistic3(xx0[:,i],xx1[:,i],w)\n",
        "    for j in range(3):\n",
        "      y[:,i,j]=wk[:,j]\n",
        "  for j in range(3):\n",
        "    cont=plt.contour(xx0,xx1,y[:,:,j],levels=(0.5,0.9),colors=['cornflowerblue','k'])\n",
        "    cont.clabel(fmt='%1.1f',fontsize=9)\n",
        "  plt.grid(True)\n",
        "  \n"
      ],
      "metadata": {
        "id": "88-pHOI_9bg5"
      },
      "execution_count": 7,
      "outputs": []
    },
    {
      "cell_type": "markdown",
      "source": [
        "show_contour_logistic3는 매개 변수 w를 전달하면 표시할 입력 공간을 30*30으로 분할하여 모든 입력에 대한 출력을 확인하고 각각의 카테고리에서 0.5 또는 0.9 이상의 출력을 얻을 수 있는 영역을 등고선으로 표시한다."
      ],
      "metadata": {
        "id": "_D1i_wi0adve"
      }
    },
    {
      "cell_type": "code",
      "source": [
        "##main\n",
        "W_init=np.zeros((3,3))\n",
        "W=fit_logistic3(W_init,X,T3)\n",
        "print(\"W={}\".format(np.round(W.reshape((3,3)),2)))\n",
        "cee=cee_logistic3(W,X,T3)\n",
        "print(\"CEE={:.2f}\".format(cee))\n",
        "plt.figure(figsize=(3,3))\n",
        "show_data2(X,T3)\n",
        "show_contour_logistic3(W)\n",
        "plt.show()\n",
        "\n"
      ],
      "metadata": {
        "colab": {
          "base_uri": "https://localhost:8080/",
          "height": 288
        },
        "id": "9FwYWp3wczJ5",
        "outputId": "805a0c7a-3586-4b9c-dd06-672f6ed9764c"
      },
      "execution_count": 14,
      "outputs": [
        {
          "output_type": "stream",
          "name": "stdout",
          "text": [
            "W=[[-3.2  -2.69  2.25]\n",
            " [-0.49  4.8  -0.69]\n",
            " [ 3.68 -2.11 -1.56]]\n",
            "CEE=0.23\n"
          ]
        },
        {
          "output_type": "display_data",
          "data": {
            "image/png": "[encoded data removed]",
            "text/plain": [
              "<Figure size 216x216 with 1 Axes>"
            ]
          },
          "metadata": {
            "needs_background": "light"
          }
        }
      ]
    },
    {
      "cell_type": "markdown",
      "source": [
        "출처: 파이썬으로 배우는 머신러닝의 교과서-이시카와아키히코"
      ],
      "metadata": {
        "id": "IOyqR0xuf0yE"
      }
    }
  ]
}